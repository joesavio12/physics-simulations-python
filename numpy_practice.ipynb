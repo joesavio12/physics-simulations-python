{
 "cells": [
  {
   "cell_type": "code",
   "execution_count": 18,
   "metadata": {},
   "outputs": [],
   "source": [
    "import numpy as np"
   ]
  },
  {
   "cell_type": "markdown",
   "metadata": {},
   "source": [
    "### Create an Array"
   ]
  },
  {
   "cell_type": "code",
   "execution_count": 19,
   "metadata": {},
   "outputs": [
    {
     "name": "stdout",
     "output_type": "stream",
     "text": [
      "[1 2 3 4 5]\n",
      "[[1]\n",
      " [2]\n",
      " [3]]\n",
      "<class 'numpy.ndarray'>\n",
      "\n",
      "\n",
      "<class 'numpy.dtype'>\n",
      "\n",
      "\n",
      "1\n",
      "\n",
      "\n",
      "<class 'numpy.ndarray'>\n",
      "\n",
      "\n",
      "(5,)\n"
     ]
    }
   ],
   "source": [
    "arr = np.array([1,2,3,4,5]) #Row Matrix\n",
    "arr2 = np.array([[1],[2],[3]]) #Column Matrix\n",
    "print(arr)\n",
    "print(arr2)\n",
    "print(type(arr))\n",
    "print(\"\\n\")\n",
    "print(np.dtype)\n",
    "print(\"\\n\")\n",
    "print(np.ndim(arr))\n",
    "print(\"\\n\")\n",
    "print(type(arr))\n",
    "print(\"\\n\")\n",
    "print(arr.shape)"
   ]
  },
  {
   "cell_type": "markdown",
   "metadata": {},
   "source": [
    "### Multidimensional Array"
   ]
  },
  {
   "cell_type": "code",
   "execution_count": 20,
   "metadata": {},
   "outputs": [
    {
     "name": "stdout",
     "output_type": "stream",
     "text": [
      "[[1 2]\n",
      " [3 4]]\n",
      "(2, 2)\n"
     ]
    }
   ],
   "source": [
    "matrix = np.array([[1,2],[3,4]])\n",
    "print(matrix)\n",
    "print(matrix.shape)"
   ]
  },
  {
   "cell_type": "markdown",
   "metadata": {},
   "source": [
    "### Array Operations"
   ]
  },
  {
   "cell_type": "code",
   "execution_count": 21,
   "metadata": {},
   "outputs": [
    {
     "name": "stdout",
     "output_type": "stream",
     "text": [
      "[5 7 9]\n",
      "[ 4 10 18]\n",
      "[1 4 9]\n"
     ]
    }
   ],
   "source": [
    "a = np.array([1,2,3])\n",
    "b = np.array([4,5,6])\n",
    "\n",
    "print(a + b)\n",
    "print(a * b)\n",
    "print(a ** 2)     # Square"
   ]
  },
  {
   "cell_type": "markdown",
   "metadata": {},
   "source": [
    "### Useful Array Functions"
   ]
  },
  {
   "cell_type": "code",
   "execution_count": 22,
   "metadata": {},
   "outputs": [
    {
     "name": "stdout",
     "output_type": "stream",
     "text": [
      "[ 1  2  3  4  5  6  7  8  9 10 11 12 13 14 15 16 17 18 19 20]\n",
      "10.5\n",
      "5.766281297335398\n",
      "210\n",
      "20\n",
      "1\n"
     ]
    }
   ],
   "source": [
    "arr3 = np.arange(1,21)\n",
    "print(arr3)\n",
    "\n",
    "print(np.mean(arr3))    # Average\n",
    "print(np.std(arr3))     # Standard deviation\n",
    "print(np.sum(arr3))     # Sum\n",
    "print(np.max(arr3))     # Max\n",
    "print(np.min(arr3))     # Min\n"
   ]
  },
  {
   "cell_type": "markdown",
   "metadata": {},
   "source": [
    "### Indexing and slicing"
   ]
  },
  {
   "cell_type": "code",
   "execution_count": 25,
   "metadata": {},
   "outputs": [
    {
     "name": "stdout",
     "output_type": "stream",
     "text": [
      "[[ 1  2  3  4]\n",
      " [ 5  6  7  8]\n",
      " [ 9 10 11 12]\n",
      " [13 14 15 16]\n",
      " [17 18 19 20]]\n"
     ]
    }
   ],
   "source": [
    "arr_2D = arr3.reshape(5,4)\n",
    "print(arr_2D)"
   ]
  },
  {
   "cell_type": "code",
   "execution_count": 28,
   "metadata": {},
   "outputs": [
    {
     "name": "stdout",
     "output_type": "stream",
     "text": [
      "6\n",
      "[1 2 3 4]\n",
      "[ 1  5  9 13 17]\n"
     ]
    }
   ],
   "source": [
    "print(arr_2D[1][1]) # Single element\n",
    "print(arr_2D[0])    #Single Row\n",
    "print(arr_2D[:, 0])  #Single Column"
   ]
  },
  {
   "cell_type": "markdown",
   "metadata": {},
   "source": [
    "### Special Arrays"
   ]
  },
  {
   "cell_type": "code",
   "execution_count": 8,
   "metadata": {},
   "outputs": [
    {
     "name": "stdout",
     "output_type": "stream",
     "text": [
      "[[0. 0. 0.]\n",
      " [0. 0. 0.]]\n",
      "[[1. 1. 1.]\n",
      " [1. 1. 1.]\n",
      " [1. 1. 1.]]\n",
      "[[1. 0. 0.]\n",
      " [0. 1. 0.]\n",
      " [0. 0. 1.]]\n",
      "[0 2 4 6 8]\n",
      "[0.   0.25 0.5  0.75 1.  ]\n"
     ]
    }
   ],
   "source": [
    "print(np.zeros((2, 3)))       # 2x3 array of zeros\n",
    "print(np.ones((3, 3)))        # 3x3 array of ones\n",
    "print(np.eye(3))              # Identity matrix\n",
    "print(np.arange(0, 10, 2))    # [0 2 4 6 8]\n",
    "print(np.linspace(0, 1, 5))   # 5 values from 0 to 1\n"
   ]
  },
  {
   "cell_type": "markdown",
   "metadata": {},
   "source": [
    "### Reshaping Arrays"
   ]
  },
  {
   "cell_type": "code",
   "execution_count": 9,
   "metadata": {},
   "outputs": [
    {
     "name": "stdout",
     "output_type": "stream",
     "text": [
      "[[1 2 3]\n",
      " [4 5 6]]\n"
     ]
    }
   ],
   "source": [
    "a = np.array([1, 2, 3, 4, 5, 6])\n",
    "a = a.reshape((2, 3))  # Now 2 rows, 3 columns\n",
    "print(a)\n"
   ]
  },
  {
   "cell_type": "markdown",
   "metadata": {},
   "source": [
    "### Matrix Operations"
   ]
  },
  {
   "cell_type": "code",
   "execution_count": 45,
   "metadata": {},
   "outputs": [
    {
     "name": "stdout",
     "output_type": "stream",
     "text": [
      "[[ 4  4]\n",
      " [10  8]]\n",
      "Transpose of A\n",
      " [[1 3]\n",
      " [2 4]]\n",
      "Inverse of B =\n",
      " [[ 0.5   0.  ]\n",
      " [-0.25  0.5 ]]\n"
     ]
    }
   ],
   "source": [
    "A = np.array([[1, 2], [3, 4]])\n",
    "B = np.array([[2, 0], [1, 2]])\n",
    "print(A @ B)       #Matrix Multiplication\n",
    "print(\"Transpose of A\\n\", A.T)\n",
    "print(\"Inverse of B =\\n\", np.linalg.inv(B))"
   ]
  },
  {
   "cell_type": "markdown",
   "metadata": {},
   "source": [
    "### Particle Velocity"
   ]
  },
  {
   "cell_type": "code",
   "execution_count": 52,
   "metadata": {},
   "outputs": [
    {
     "name": "stdout",
     "output_type": "stream",
     "text": [
      "Kinetic Energies: [12.25 16.    7.84 27.04 15.21]\n",
      "Average of the kinetic energies 15.67\n"
     ]
    }
   ],
   "source": [
    "velocities = np.array([3.5, 4.0, 2.8, 5.2, 3.9])\n",
    "m = 2\n",
    "KE = 1/2 * m * (velocities ** 2)\n",
    "print(\"Kinetic Energies:\",KE)\n",
    "avg_KE = np.mean(KE)\n",
    "rounded_average = round(avg_KE, 2)\n",
    "print(\"Average of the kinetic energies\", rounded_average)"
   ]
  },
  {
   "cell_type": "markdown",
   "metadata": {},
   "source": [
    "## Linear Algebra"
   ]
  },
  {
   "cell_type": "markdown",
   "metadata": {},
   "source": [
    "### Matrix multiplication"
   ]
  },
  {
   "cell_type": "code",
   "execution_count": 1,
   "metadata": {},
   "outputs": [],
   "source": [
    "import numpy as np"
   ]
  },
  {
   "cell_type": "code",
   "execution_count": 2,
   "metadata": {},
   "outputs": [
    {
     "name": "stdout",
     "output_type": "stream",
     "text": [
      "[[1. 1. 1.]\n",
      " [1. 1. 1.]]\n",
      "[[3 3]\n",
      " [3 3]\n",
      " [3 3]]\n",
      "[[9. 9.]\n",
      " [9. 9.]]\n"
     ]
    }
   ],
   "source": [
    "a = np.ones((2,3))\n",
    "b = np.full((3,2),3)    # make a 3 x 2 matrix with 3\n",
    "print(a)\n",
    "print(b)\n",
    "\n",
    "\n",
    "c = np.matmul(a,b)\n",
    "print(c)"
   ]
  },
  {
   "cell_type": "markdown",
   "metadata": {},
   "source": [
    "### Solve a system of linear equations\n",
    "    3x + 2y  = 16, 4x - y = 9"
   ]
  },
  {
   "cell_type": "code",
   "execution_count": 9,
   "metadata": {},
   "outputs": [
    {
     "name": "stdout",
     "output_type": "stream",
     "text": [
      "[[ 3  2]\n",
      " [ 4 -1]]\n",
      "\n",
      "\n",
      "[16  9]\n",
      "\n",
      "\n",
      "[3.09090909 3.36363636]\n"
     ]
    }
   ],
   "source": [
    "A = np.array([[3,2],[4,-1]])\n",
    "print(A)\n",
    "print(\"\\n\")\n",
    "b = np.array([16,9])\n",
    "print(b)\n",
    "print(\"\\n\")\n",
    "x = np.linalg.solve(A,b)\n",
    "print(x)"
   ]
  }
 ],
 "metadata": {
  "kernelspec": {
   "display_name": "phy-env",
   "language": "python",
   "name": "python3"
  },
  "language_info": {
   "codemirror_mode": {
    "name": "ipython",
    "version": 3
   },
   "file_extension": ".py",
   "mimetype": "text/x-python",
   "name": "python",
   "nbconvert_exporter": "python",
   "pygments_lexer": "ipython3",
   "version": "3.12.3"
  }
 },
 "nbformat": 4,
 "nbformat_minor": 2
}
