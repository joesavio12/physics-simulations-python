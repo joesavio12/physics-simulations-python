{
 "cells": [
  {
   "cell_type": "code",
   "execution_count": 18,
   "metadata": {},
   "outputs": [],
   "source": [
    "import numpy as np"
   ]
  },
  {
   "cell_type": "markdown",
   "metadata": {},
   "source": [
    "### Create an Array"
   ]
  },
  {
   "cell_type": "code",
   "execution_count": 19,
   "metadata": {},
   "outputs": [
    {
     "name": "stdout",
     "output_type": "stream",
     "text": [
      "[1 2 3 4 5]\n",
      "[[1]\n",
      " [2]\n",
      " [3]]\n",
      "<class 'numpy.ndarray'>\n",
      "\n",
      "\n",
      "<class 'numpy.dtype'>\n",
      "\n",
      "\n",
      "1\n",
      "\n",
      "\n",
      "<class 'numpy.ndarray'>\n",
      "\n",
      "\n",
      "(5,)\n"
     ]
    }
   ],
   "source": [
    "arr = np.array([1,2,3,4,5]) #Row Matrix\n",
    "arr2 = np.array([[1],[2],[3]]) #Column Matrix\n",
    "print(arr)\n",
    "print(arr2)\n",
    "print(type(arr))\n",
    "print(\"\\n\")\n",
    "print(np.dtype)\n",
    "print(\"\\n\")\n",
    "print(np.ndim(arr))\n",
    "print(\"\\n\")\n",
    "print(type(arr))\n",
    "print(\"\\n\")\n",
    "print(arr.shape)"
   ]
  },
  {
   "cell_type": "markdown",
   "metadata": {},
   "source": [
    "### Multidimensional Array"
   ]
  },
  {
   "cell_type": "code",
   "execution_count": 20,
   "metadata": {},
   "outputs": [
    {
     "name": "stdout",
     "output_type": "stream",
     "text": [
      "[[1 2]\n",
      " [3 4]]\n",
      "(2, 2)\n"
     ]
    }
   ],
   "source": [
    "matrix = np.array([[1,2],[3,4]])\n",
    "print(matrix)\n",
    "print(matrix.shape)"
   ]
  },
  {
   "cell_type": "markdown",
   "metadata": {},
   "source": [
    "### Array Operations"
   ]
  },
  {
   "cell_type": "code",
   "execution_count": 21,
   "metadata": {},
   "outputs": [
    {
     "name": "stdout",
     "output_type": "stream",
     "text": [
      "[5 7 9]\n",
      "[ 4 10 18]\n",
      "[1 4 9]\n"
     ]
    }
   ],
   "source": [
    "a = np.array([1,2,3])\n",
    "b = np.array([4,5,6])\n",
    "\n",
    "print(a + b)\n",
    "print(a * b)\n",
    "print(a ** 2)     # Square"
   ]
  },
  {
   "cell_type": "markdown",
   "metadata": {},
   "source": [
    "### Useful Array Functions"
   ]
  },
  {
   "cell_type": "code",
   "execution_count": 22,
   "metadata": {},
   "outputs": [
    {
     "name": "stdout",
     "output_type": "stream",
     "text": [
      "[ 1  2  3  4  5  6  7  8  9 10 11 12 13 14 15 16 17 18 19 20]\n",
      "10.5\n",
      "5.766281297335398\n",
      "210\n",
      "20\n",
      "1\n"
     ]
    }
   ],
   "source": [
    "arr3 = np.arange(1,21)\n",
    "print(arr3)\n",
    "\n",
    "print(np.mean(arr3))    # Average\n",
    "print(np.std(arr3))     # Standard deviation\n",
    "print(np.sum(arr3))     # Sum\n",
    "print(np.max(arr3))     # Max\n",
    "print(np.min(arr3))     # Min\n"
   ]
  },
  {
   "cell_type": "markdown",
   "metadata": {},
   "source": [
    "### Indexing and slicing"
   ]
  },
  {
   "cell_type": "code",
   "execution_count": 25,
   "metadata": {},
   "outputs": [
    {
     "name": "stdout",
     "output_type": "stream",
     "text": [
      "[[ 1  2  3  4]\n",
      " [ 5  6  7  8]\n",
      " [ 9 10 11 12]\n",
      " [13 14 15 16]\n",
      " [17 18 19 20]]\n"
     ]
    }
   ],
   "source": [
    "arr_2D = arr3.reshape(5,4)\n",
    "print(arr_2D)"
   ]
  },
  {
   "cell_type": "code",
   "execution_count": 28,
   "metadata": {},
   "outputs": [
    {
     "name": "stdout",
     "output_type": "stream",
     "text": [
      "6\n",
      "[1 2 3 4]\n",
      "[ 1  5  9 13 17]\n"
     ]
    }
   ],
   "source": [
    "print(arr_2D[1][1]) # Single element\n",
    "print(arr_2D[0])    #Single Row\n",
    "print(arr_2D[:, 0])  #Single Column"
   ]
  },
  {
   "cell_type": "markdown",
   "metadata": {},
   "source": [
    "### Special Arrays"
   ]
  },
  {
   "cell_type": "code",
   "execution_count": 8,
   "metadata": {},
   "outputs": [
    {
     "name": "stdout",
     "output_type": "stream",
     "text": [
      "[[0. 0. 0.]\n",
      " [0. 0. 0.]]\n",
      "[[1. 1. 1.]\n",
      " [1. 1. 1.]\n",
      " [1. 1. 1.]]\n",
      "[[1. 0. 0.]\n",
      " [0. 1. 0.]\n",
      " [0. 0. 1.]]\n",
      "[0 2 4 6 8]\n",
      "[0.   0.25 0.5  0.75 1.  ]\n"
     ]
    }
   ],
   "source": [
    "print(np.zeros((2, 3)))       # 2x3 array of zeros\n",
    "print(np.ones((3, 3)))        # 3x3 array of ones\n",
    "print(np.eye(3))              # Identity matrix\n",
    "print(np.arange(0, 10, 2))    # [0 2 4 6 8]\n",
    "print(np.linspace(0, 1, 5))   # 5 values from 0 to 1\n"
   ]
  },
  {
   "cell_type": "markdown",
   "metadata": {},
   "source": [
    "### Reshaping Arrays"
   ]
  },
  {
   "cell_type": "code",
   "execution_count": 9,
   "metadata": {},
   "outputs": [
    {
     "name": "stdout",
     "output_type": "stream",
     "text": [
      "[[1 2 3]\n",
      " [4 5 6]]\n"
     ]
    }
   ],
   "source": [
    "a = np.array([1, 2, 3, 4, 5, 6])\n",
    "a = a.reshape((2, 3))  # Now 2 rows, 3 columns\n",
    "print(a)\n"
   ]
  },
  {
   "cell_type": "markdown",
   "metadata": {},
   "source": [
    "### Matrix Operations"
   ]
  },
  {
   "cell_type": "code",
   "execution_count": 45,
   "metadata": {},
   "outputs": [
    {
     "name": "stdout",
     "output_type": "stream",
     "text": [
      "[[ 4  4]\n",
      " [10  8]]\n",
      "Transpose of A\n",
      " [[1 3]\n",
      " [2 4]]\n",
      "Inverse of B =\n",
      " [[ 0.5   0.  ]\n",
      " [-0.25  0.5 ]]\n"
     ]
    }
   ],
   "source": [
    "A = np.array([[1, 2], [3, 4]])\n",
    "B = np.array([[2, 0], [1, 2]])\n",
    "print(A @ B)       #Matrix Multiplication\n",
    "print(\"Transpose of A\\n\", A.T)\n",
    "print(\"Inverse of B =\\n\", np.linalg.inv(B))"
   ]
  },
  {
   "cell_type": "markdown",
   "metadata": {},
   "source": [
    "### Particle Velocity"
   ]
  },
  {
   "cell_type": "code",
   "execution_count": 52,
   "metadata": {},
   "outputs": [
    {
     "name": "stdout",
     "output_type": "stream",
     "text": [
      "Kinetic Energies: [12.25 16.    7.84 27.04 15.21]\n",
      "Average of the kinetic energies 15.67\n"
     ]
    }
   ],
   "source": [
    "velocities = np.array([3.5, 4.0, 2.8, 5.2, 3.9])\n",
    "m = 2\n",
    "KE = 1/2 * m * (velocities ** 2)\n",
    "print(\"Kinetic Energies:\",KE)\n",
    "avg_KE = np.mean(KE)\n",
    "rounded_average = round(avg_KE, 2)\n",
    "print(\"Average of the kinetic energies\", rounded_average)"
   ]
  },
  {
   "cell_type": "markdown",
   "metadata": {},
   "source": [
    "## Linear Algebra"
   ]
  },
  {
   "cell_type": "markdown",
   "metadata": {},
   "source": [
    "### Matrix multiplication"
   ]
  },
  {
   "cell_type": "code",
   "execution_count": 1,
   "metadata": {},
   "outputs": [],
   "source": [
    "import numpy as np"
   ]
  },
  {
   "cell_type": "code",
   "execution_count": 2,
   "metadata": {},
   "outputs": [
    {
     "name": "stdout",
     "output_type": "stream",
     "text": [
      "[[1. 1. 1.]\n",
      " [1. 1. 1.]]\n",
      "[[3 3]\n",
      " [3 3]\n",
      " [3 3]]\n",
      "[[9. 9.]\n",
      " [9. 9.]]\n"
     ]
    }
   ],
   "source": [
    "a = np.ones((2,3))\n",
    "b = np.full((3,2),3)    # make a 3 x 2 matrix with 3\n",
    "print(a)\n",
    "print(b)\n",
    "\n",
    "\n",
    "c = np.matmul(a,b)\n",
    "print(c)"
   ]
  },
  {
   "cell_type": "markdown",
   "metadata": {},
   "source": [
    "### Solve a system of linear equations\n",
    "    3x + 2y  = 16, 4x - y = 9"
   ]
  },
  {
   "cell_type": "code",
   "execution_count": 9,
   "metadata": {},
   "outputs": [
    {
     "name": "stdout",
     "output_type": "stream",
     "text": [
      "[[ 3  2]\n",
      " [ 4 -1]]\n",
      "\n",
      "\n",
      "[16  9]\n",
      "\n",
      "\n",
      "[3.09090909 3.36363636]\n"
     ]
    }
   ],
   "source": [
    "A = np.array([[3,2],[4,-1]])\n",
    "print(A)\n",
    "print(\"\\n\")\n",
    "b = np.array([16,9])\n",
    "print(b)\n",
    "print(\"\\n\")\n",
    "x = np.linalg.solve(A,b)\n",
    "print(x)"
   ]
  },
  {
   "cell_type": "markdown",
   "metadata": {},
   "source": [
    "## Random Numbers"
   ]
  },
  {
   "cell_type": "markdown",
   "metadata": {},
   "source": [
    "### Random Integers"
   ]
  },
  {
   "cell_type": "code",
   "execution_count": 32,
   "metadata": {},
   "outputs": [
    {
     "name": "stdout",
     "output_type": "stream",
     "text": [
      "[5 6 1 4 4 4 2 4 6 3]\n"
     ]
    }
   ],
   "source": [
    "import numpy as np\n",
    "np.random.seed(0)\n",
    "rolls = np.random.randint(1,7, size = 10)\n",
    "print(rolls)"
   ]
  },
  {
   "cell_type": "markdown",
   "metadata": {},
   "source": [
    "### Uniform distribution between 0 and 1"
   ]
  },
  {
   "cell_type": "code",
   "execution_count": 33,
   "metadata": {},
   "outputs": [
    {
     "name": "stdout",
     "output_type": "stream",
     "text": [
      "Uniform [0, 1): [0.43758721 0.891773   0.96366276 0.38344152 0.79172504]\n"
     ]
    }
   ],
   "source": [
    "uniform_vals = np.random.rand(5)\n",
    "print(\"Uniform [0, 1):\", uniform_vals)\n"
   ]
  },
  {
   "cell_type": "markdown",
   "metadata": {},
   "source": [
    "### Normal Distribution"
   ]
  },
  {
   "cell_type": "code",
   "execution_count": 34,
   "metadata": {},
   "outputs": [
    {
     "name": "stdout",
     "output_type": "stream",
     "text": [
      "Standard Normal (mean=0, std=1): [ 2.54520078  1.08081191  0.48431215  0.57914048 -0.18158257]\n"
     ]
    }
   ],
   "source": [
    "normal_vals = np.random.randn(5)\n",
    "print(\"Standard Normal (mean=0, std=1):\", normal_vals)\n"
   ]
  },
  {
   "cell_type": "markdown",
   "metadata": {},
   "source": [
    "### Choose random elements from a list"
   ]
  },
  {
   "cell_type": "code",
   "execution_count": 35,
   "metadata": {},
   "outputs": [
    {
     "name": "stdout",
     "output_type": "stream",
     "text": [
      "Random choices: [40 40 69 10 20]\n"
     ]
    }
   ],
   "source": [
    "choices = np.random.choice([10, 20, 30, 40, 30,45,55,69,50,34,90], size=5)\n",
    "print(\"Random choices:\", choices)\n"
   ]
  },
  {
   "cell_type": "markdown",
   "metadata": {},
   "source": [
    "### Shuffle an array"
   ]
  },
  {
   "cell_type": "code",
   "execution_count": 36,
   "metadata": {},
   "outputs": [
    {
     "name": "stdout",
     "output_type": "stream",
     "text": [
      "Shuffled array: [3 4 1 5 2]\n"
     ]
    }
   ],
   "source": [
    "arr = np.array([1, 2, 3, 4, 5])\n",
    "np.random.shuffle(arr)\n",
    "print(\"Shuffled array:\", arr)\n"
   ]
  },
  {
   "cell_type": "markdown",
   "metadata": {},
   "source": [
    "### Practice"
   ]
  },
  {
   "cell_type": "code",
   "execution_count": 48,
   "metadata": {},
   "outputs": [
    {
     "name": "stdout",
     "output_type": "stream",
     "text": [
      "[[96 92 90 63]\n",
      " [80 74 52 53]\n",
      " [80 84 93 63]]\n"
     ]
    }
   ],
   "source": [
    "# Generate a 3 x 4 matrix of random integers between 50 and 100\n",
    "\n",
    "import numpy as np\n",
    "\n",
    "random_matrix = np.random.randint(50,101,size = 12)\n",
    "random_matrix_2D = random_matrix.reshape(3,4)\n",
    "print(random_matrix_2D)"
   ]
  },
  {
   "cell_type": "markdown",
   "metadata": {},
   "source": [
    "### Temperature sensor simulation"
   ]
  },
  {
   "cell_type": "code",
   "execution_count": 10,
   "metadata": {},
   "outputs": [],
   "source": [
    "import numpy as np"
   ]
  },
  {
   "cell_type": "code",
   "execution_count": 26,
   "metadata": {},
   "outputs": [
    {
     "name": "stdout",
     "output_type": "stream",
     "text": [
      "[17.4406752  25.75946832 20.1381688  17.24415915 11.18273997 22.29470565\n",
      " 11.87936056 34.58865004 38.18313803  9.17207594 29.5862519  16.44474599\n",
      " 18.40222805 36.27983191 -6.44819709 -5.64353501 -8.98908013 31.63099228\n",
      " 28.90783755 33.50060741 38.93091711 29.95792821 13.07396811 29.02645881\n",
      " -4.08627871 21.99605107 -2.83233563 37.23344585 16.09241609 10.733097\n",
      "  3.22778061 28.71168447 12.80751661 18.42169744 -9.06050998 20.88177485\n",
      " 20.60478614 20.84669984 37.18740393 24.09101496  7.97539503 11.85159769\n",
      " 24.8815598  -6.98872642 23.33833577 23.53189348  0.51912805 -3.55368512\n",
      "  5.77141755  8.18553855 18.50983852 11.93007567 39.4186919  -4.89775946\n",
      "  0.4438378  -1.93452411 22.65541627  2.66458013 13.31553864  2.2212796\n",
      " -2.05152082 -4.48124294 22.81647947 -3.09085243 -0.17088192  8.43625853\n",
      " 31.04966149 -5.14493621 31.89724537 -5.19507961 38.82297325 13.43256008\n",
      " 38.83805441 20.24227599 26.96317897 -8.04061039  4.14034813 -3.99017194\n",
      "  4.80700988 -4.06361405  5.89915897 10.71314973 -6.79262518 24.62360597\n",
      " 18.33007271  3.26947455 16.16240267 -5.30297446 18.79732478 36.46480988\n",
      "  5.92844762 23.370519   -3.41010688 25.81636021  4.47030465 -0.8404319\n",
      " 19.32564674 -8.99462269 31.44700146 -9.76522619]\n"
     ]
    }
   ],
   "source": [
    "np.random.seed(0)\n",
    "temp_array = np.random.uniform(-10, 40,size = 100) # Generated 100 random number between -10 an 40\n",
    "print(temp_array)"
   ]
  },
  {
   "cell_type": "code",
   "execution_count": 29,
   "metadata": {},
   "outputs": [
    {
     "name": "stdout",
     "output_type": "stream",
     "text": [
      "Temperature below 0 degree celcius: 25\n"
     ]
    }
   ],
   "source": [
    "below_freezing = temp_array < 0 #finding temperatures below 0 degree celsius \n",
    "#print(temp_array[below_freezing])\n",
    "count_below_freezing = np.sum(below_freezing) # taking a count\n",
    "\n",
    "print(\"Temperature below 0 degree celcius:\", count_below_freezing)"
   ]
  },
  {
   "cell_type": "code",
   "execution_count": 31,
   "metadata": {},
   "outputs": [
    {
     "name": "stdout",
     "output_type": "stream",
     "text": [
      "[17.4406752  25.75946832 20.1381688  17.24415915 11.18273997 22.29470565\n",
      " 11.87936056 34.58865004 38.18313803  9.17207594 29.5862519  16.44474599\n",
      " 18.40222805 36.27983191 -5.         -5.         -5.         31.63099228\n",
      " 28.90783755 33.50060741 38.93091711 29.95792821 13.07396811 29.02645881\n",
      " -5.         21.99605107 -5.         37.23344585 16.09241609 10.733097\n",
      "  3.22778061 28.71168447 12.80751661 18.42169744 -5.         20.88177485\n",
      " 20.60478614 20.84669984 37.18740393 24.09101496  7.97539503 11.85159769\n",
      " 24.8815598  -5.         23.33833577 23.53189348  0.51912805 -5.\n",
      "  5.77141755  8.18553855 18.50983852 11.93007567 39.4186919  -5.\n",
      "  0.4438378  -5.         22.65541627  2.66458013 13.31553864  2.2212796\n",
      " -5.         -5.         22.81647947 -5.         -5.          8.43625853\n",
      " 31.04966149 -5.         31.89724537 -5.         38.82297325 13.43256008\n",
      " 38.83805441 20.24227599 26.96317897 -5.          4.14034813 -5.\n",
      "  4.80700988 -5.          5.89915897 10.71314973 -5.         24.62360597\n",
      " 18.33007271  3.26947455 16.16240267 -5.         18.79732478 36.46480988\n",
      "  5.92844762 23.370519   -5.         25.81636021  4.47030465 -5.\n",
      " 19.32564674 -5.         31.44700146 -5.        ]\n"
     ]
    }
   ],
   "source": [
    "temp_array[below_freezing] = -5\n",
    "#print(temp_array[below_freezing])\n",
    "print(temp_array)"
   ]
  },
  {
   "cell_type": "code",
   "execution_count": 33,
   "metadata": {},
   "outputs": [
    {
     "name": "stdout",
     "output_type": "stream",
     "text": [
      "13.647387268217253\n"
     ]
    }
   ],
   "source": [
    "average_temperature = np.mean(temp_array)\n",
    "print(average_temperature)"
   ]
  },
  {
   "cell_type": "code",
   "execution_count": 49,
   "metadata": {},
   "outputs": [
    {
     "name": "stdout",
     "output_type": "stream",
     "text": [
      "[39.4186919  38.93091711 38.83805441 38.82297325 38.18313803]\n"
     ]
    }
   ],
   "source": [
    "sorted_array = np.sort(temp_array)      # Sort in ascending order\n",
    "reverse_array = sorted_array[::-1]      # Sort in decending order\n",
    "#print(reverse_array)\n",
    "top_temps = reverse_array[0:5]          # top 5 temperatures\n",
    "print(top_temps)"
   ]
  }
 ],
 "metadata": {
  "kernelspec": {
   "display_name": "phy-env",
   "language": "python",
   "name": "python3"
  },
  "language_info": {
   "codemirror_mode": {
    "name": "ipython",
    "version": 3
   },
   "file_extension": ".py",
   "mimetype": "text/x-python",
   "name": "python",
   "nbconvert_exporter": "python",
   "pygments_lexer": "ipython3",
   "version": "3.12.3"
  }
 },
 "nbformat": 4,
 "nbformat_minor": 2
}
